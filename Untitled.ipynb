{
 "cells": [
  {
   "cell_type": "code",
   "execution_count": 3,
   "id": "2833caff-f8c7-41f3-adc5-4c67fa707f3c",
   "metadata": {},
   "outputs": [
    {
     "name": "stdout",
     "output_type": "stream",
     "text": [
      "I love python\n"
     ]
    }
   ],
   "source": [
    "print('I love python')#打印字符串"
   ]
  },
  {
   "cell_type": "code",
   "execution_count": 5,
   "id": "af683768-a999-4a31-9907-7d8699f52314",
   "metadata": {},
   "outputs": [
    {
     "name": "stdout",
     "output_type": "stream",
     "text": [
      "8\n"
     ]
    }
   ],
   "source": [
    "print(5+3)#打印数字运算"
   ]
  },
  {
   "cell_type": "code",
   "execution_count": 9,
   "id": "7abcf334-6e1a-4819-8f92-1990c03e8d08",
   "metadata": {},
   "outputs": [
    {
     "data": {
      "text/plain": [
       "4"
      ]
     },
     "execution_count": 9,
     "metadata": {},
     "output_type": "execute_result"
    }
   ],
   "source": [
    "9//2"
   ]
  },
  {
   "cell_type": "code",
   "execution_count": 10,
   "id": "5769ffe9-465e-4902-93c5-6fbccaadc786",
   "metadata": {},
   "outputs": [
    {
     "data": {
      "text/plain": [
       "False"
      ]
     },
     "execution_count": 10,
     "metadata": {},
     "output_type": "execute_result"
    }
   ],
   "source": [
    "1==2"
   ]
  },
  {
   "cell_type": "code",
   "execution_count": 11,
   "id": "b23a4e02-9260-4572-80f4-a593807e2bee",
   "metadata": {},
   "outputs": [
    {
     "data": {
      "text/plain": [
       "True"
      ]
     },
     "execution_count": 11,
     "metadata": {},
     "output_type": "execute_result"
    }
   ],
   "source": [
    "1!=2"
   ]
  },
  {
   "cell_type": "code",
   "execution_count": 14,
   "id": "d8a2cfe8-c5a0-4203-8d08-3c5fc1ff3bce",
   "metadata": {},
   "outputs": [
    {
     "name": "stdout",
     "output_type": "stream",
     "text": [
      "i love pythoni love pythoni love python\n"
     ]
    }
   ],
   "source": [
    "print('i love python'*3)"
   ]
  },
  {
   "cell_type": "code",
   "execution_count": 16,
   "id": "056cbfec-b60b-4637-b135-be255308fa75",
   "metadata": {},
   "outputs": [
    {
     "name": "stdout",
     "output_type": "stream",
     "text": [
      "4\n"
     ]
    }
   ],
   "source": [
    "x=1#先定义变量\n",
    "func=3*x+1\n",
    "print(func)"
   ]
  },
  {
   "cell_type": "code",
   "execution_count": 3,
   "id": "e04547ff-0139-4157-bf86-684c1665825a",
   "metadata": {},
   "outputs": [
    {
     "name": "stdout",
     "output_type": "stream",
     "text": [
      "monadic_equation= 7\n"
     ]
    }
   ],
   "source": [
    "x=2\n",
    "monadic_equation=3*x+1\n",
    "print(\"monadic_equation=\",monadic_equation)"
   ]
  },
  {
   "cell_type": "code",
   "execution_count": 3,
   "id": "f9b68799-4759-466c-8dde-1bbc77131170",
   "metadata": {},
   "outputs": [
    {
     "name": "stdout",
     "output_type": "stream",
     "text": [
      "monadic_equation= 7\n",
      "monadic_equation=7.00\n",
      "monadic_equation=7.000\n"
     ]
    }
   ],
   "source": [
    "x=3\n",
    "monadic_equation=2*x+1\n",
    "print(\"monadic_equation=\",monadic_equation)\n",
    "print(\"monadic_equation=%.2f\"%monadic_equation) #%字符串格式化方法\n",
    "print(\"monadic_equation={:.3f}\".format(monadic_equation)) #format()字符串格式化方法\n"
   ]
  },
  {
   "cell_type": "code",
   "execution_count": 4,
   "id": "5c892a84-2211-4ff9-8cc8-bedf77a6fce1",
   "metadata": {},
   "outputs": [
    {
     "name": "stdout",
     "output_type": "stream",
     "text": [
      "The longitude of the 西安 coordinate is 108.94, and the latitude is 34.261013.\n"
     ]
    }
   ],
   "source": [
    "cityname=\"西安\"\n",
    "coordinate_longitude=108.942292#经度\n",
    "coordinate_latitude=34.261013#纬度\n",
    "print(\"The longitude of the 西安 coordinate is {lon:.2f}, and the latitude is {lat}.\".format(lon=coordinate_longitude,lat=coordinate_latitude))"
   ]
  },
  {
   "cell_type": "code",
   "execution_count": 34,
   "id": "799a26b5-a568-43bf-a781-0164cbca496b",
   "metadata": {},
   "outputs": [
    {
     "name": "stdout",
     "output_type": "stream",
     "text": [
      "The longitude of the Xi'an coordinate is 108.94, and the latitude is 34.26.\n"
     ]
    }
   ],
   "source": [
    "city_name=\"Xi'an\"\n",
    "coordinate_longitude=108.942292\n",
    "coordiante_latitude=34.261013\n",
    "print(\"The longitude of the Xi'an coordinate is {lon:.2f}, and the latitude is {lat:.2f}.\".format(lon=coordinate_longitude,lat=coordiante_latitude))\n"
   ]
  },
  {
   "cell_type": "code",
   "execution_count": 71,
   "id": "68dd180f-1edc-41b8-bec1-8e7ad6b1efe6",
   "metadata": {},
   "outputs": [
    {
     "name": "stdout",
     "output_type": "stream",
     "text": [
      "func_2=11\n"
     ]
    }
   ],
   "source": [
    "y,z=2,3\n",
    "func=4*y+z\n",
    "print(\"func_2={}\".format(func))"
   ]
  },
  {
   "cell_type": "code",
   "execution_count": 69,
   "id": "eec4a98e-85e5-4363-870a-d47b44dfec15",
   "metadata": {},
   "outputs": [
    {
     "name": "stdout",
     "output_type": "stream",
     "text": [
      "func=28\n"
     ]
    }
   ],
   "source": [
    "x,y,b=2,5,7 \n",
    "func=3*x+3*y+b\n",
    "print(\"func={}\".format(func))\n"
   ]
  },
  {
   "cell_type": "code",
   "execution_count": 67,
   "id": "291bcb69-f753-4f6d-ac18-f47c4ecb1a27",
   "metadata": {},
   "outputs": [
    {
     "name": "stdout",
     "output_type": "stream",
     "text": [
      "func_2=31\n"
     ]
    }
   ],
   "source": [
    "x,y,b=3,5,7 \n",
    "func_2=3*x+3*y+b\n",
    "print(\"func_2={}\".format(func_2))\n"
   ]
  },
  {
   "cell_type": "code",
   "execution_count": 82,
   "id": "39508d65-a23b-4876-be54-feaf76c065f8",
   "metadata": {},
   "outputs": [
    {
     "name": "stdout",
     "output_type": "stream",
     "text": [
      "[1, 2, 3, 4, 5]\n"
     ]
    }
   ],
   "source": [
    "lst=list(range(1,6,1))#建立列表，range（start，stop，step）建立区间\n",
    "print(lst)\n"
   ]
  },
  {
   "cell_type": "code",
   "execution_count": 8,
   "id": "3e984913-3949-42ed-a217-0937aa46f81b",
   "metadata": {},
   "outputs": [
    {
     "name": "stdout",
     "output_type": "stream",
     "text": [
      "[1, 2, 3, 4, 5]\n",
      "The list length=5\n",
      "Maximum value=5\n",
      "Minimum value=1\n"
     ]
    }
   ],
   "source": [
    "lst_1=list(range(1,6,1)) \n",
    "print(lst_1)\n",
    "print(\"The list length={}\".format(len(lst_1)))\n",
    "print(\"Maximum value={}\".format(max(lst_1)))\n",
    "print(\"Minimum value={}\".format(min(lst_1)))\n"
   ]
  },
  {
   "cell_type": "code",
   "execution_count": 88,
   "id": "a29529e1-619e-47f9-af4c-10515760d5cc",
   "metadata": {},
   "outputs": [
    {
     "name": "stdout",
     "output_type": "stream",
     "text": [
      "Help on class map in module builtins:\n",
      "\n",
      "class map(object)\n",
      " |  map(func, *iterables) --> map object\n",
      " |  \n",
      " |  Make an iterator that computes the function using arguments from\n",
      " |  each of the iterables.  Stops when the shortest iterable is exhausted.\n",
      " |  \n",
      " |  Methods defined here:\n",
      " |  \n",
      " |  __getattribute__(self, name, /)\n",
      " |      Return getattr(self, name).\n",
      " |  \n",
      " |  __iter__(self, /)\n",
      " |      Implement iter(self).\n",
      " |  \n",
      " |  __next__(self, /)\n",
      " |      Implement next(self).\n",
      " |  \n",
      " |  __reduce__(...)\n",
      " |      Return state information for pickling.\n",
      " |  \n",
      " |  ----------------------------------------------------------------------\n",
      " |  Static methods defined here:\n",
      " |  \n",
      " |  __new__(*args, **kwargs) from builtins.type\n",
      " |      Create and return a new object.  See help(type) for accurate signature.\n",
      "\n"
     ]
    }
   ],
   "source": [
    "help(map)"
   ]
  },
  {
   "cell_type": "code",
   "execution_count": 101,
   "id": "06c62d23-495f-41af-8455-f6ae845231c6",
   "metadata": {},
   "outputs": [
    {
     "name": "stdout",
     "output_type": "stream",
     "text": [
      "['2', '3', '4', '5', '6', '7', '8', '9', ':', ';', '<', '=', '>', '?', '@', 'A', 'B', 'C', 'D', 'E', 'F', 'G', 'H', 'I', 'J', 'K', 'L', 'M', 'N', 'O', 'P', 'Q', 'R', 'S', 'T', 'U', 'V', 'W', 'X', 'Y', 'Z', '[', '\\\\', ']', '^', '_', '`', 'a', 'b', 'c', 'd', 'e', 'f', 'g', 'h', 'i', 'j', 'k', 'l', 'm']\n",
      "__________________________________________________\n",
      "[1:6]->['e', 'f', 'g', 'h', 'i']\n",
      "[-5:-1]->['i', 'j', 'k', 'l']\n",
      "[-7:]->['g', 'h', 'i', 'j', 'k', 'l', 'm']\n",
      "[:3]->['d', 'e', 'f']\n",
      "[:]->['d', 'e', 'f', 'g', 'h', 'i', 'j', 'k', 'l', 'm']\n"
     ]
    }
   ],
   "source": [
    "lst=list(map(chr,range(50,110)))\n",
    "print(lst)\n",
    "print(\"_\"*50)\n",
    "print(\"[1:6]->{}\".format(lst_s[1:6]))\n",
    "print(\"[-5:-1]->{}\".format(lst_s[-5:-1]))\n",
    "print(\"[-7:]->{}\".format(lst_s[-7:]))\n",
    "print(\"[:3]->{}\".format(lst_s[:3]))\n",
    "print(\"[:]->{}\".format(lst_s[:]))\n"
   ]
  },
  {
   "cell_type": "code",
   "execution_count": 102,
   "id": "19c116eb-af54-4be0-82e0-049477f12148",
   "metadata": {},
   "outputs": [
    {
     "name": "stdout",
     "output_type": "stream",
     "text": [
      "Help on built-in function chr in module builtins:\n",
      "\n",
      "chr(i, /)\n",
      "    Return a Unicode string of one character with ordinal i; 0 <= i <= 0x10ffff.\n",
      "\n"
     ]
    }
   ],
   "source": [
    "help(chr)"
   ]
  },
  {
   "cell_type": "code",
   "execution_count": 19,
   "id": "27876af5-e2f3-45ca-af8e-d1764c285a1d",
   "metadata": {},
   "outputs": [
    {
     "name": "stdout",
     "output_type": "stream",
     "text": [
      "[1, 2, 3, 4, 5]\n",
      "__________________________________________________\n",
      "[1::-2]->[2]\n",
      "[:3:-1]->[5]\n"
     ]
    }
   ],
   "source": [
    "print(lst_1)\n",
    "print(\"_\"*50)\n",
    "print(\"[1::-2]->{}\".format(lst_1[1::-2]))\n",
    "print(\"[:3:-1]->{}\".format(lst_1[:3:-1]))"
   ]
  },
  {
   "cell_type": "code",
   "execution_count": 48,
   "id": "89413aa1-33ce-4b2d-af0d-bdd72f83145d",
   "metadata": {},
   "outputs": [
    {
     "name": "stdout",
     "output_type": "stream",
     "text": [
      "lst_1+[None]*6->[1, 2, 3, 4, 5, None, None, None, None, None, None]\n",
      "lst_none[10]=2021->[1, 2, 3, 4, 5, None, None, None, None, None, 2021]\n",
      "____________________\n",
      "lst_none[-5:-3]=list(range(6,7,1))->[1, 2, 3, 4, 5, None, 6, 7, None, None, 2021]\n",
      "lst_none[2:4]=[0,0,12]->[1, 2, 0, 0, 12, 5, None, 6, 7, None, None, 2021]\n",
      "____________________\n",
      "del lst_none[-3:-2]->[1, 2, 0, 0, 12, 5, None, 6, 7, None, 2021]\n"
     ]
    }
   ],
   "source": [
    "lst_none=lst_1+[None]*6\n",
    "print(\"lst_1+[None]*6->{}\".format(lst_none))\n",
    "lst_none[10]=2021#元素赋值\n",
    "print(\"lst_none[10]=2021->{}\".format(lst_none))\n",
    "print(\"_\"*20)\n",
    "lst_none[-5:-3]=list(range(6,8,1)) #分片赋值\n",
    "print(\"lst_none[-5:-3]=list(range(6,7,1))->{}\".format(lst_none))\n",
    "lst_none[2:4]=[0,0,12]\n",
    "print(\"lst_none[2:4]=[0,0,12]->{}\".format(lst_none))\n",
    "print(\"_\"*20)\n",
    "del lst_none[-3:-2] #删除元素\n",
    "print(\"del lst_none[-3:-2]->{}\".format(lst_none))"
   ]
  },
  {
   "cell_type": "code",
   "execution_count": 102,
   "id": "f8e0ed6d-b5f3-445b-836b-9807d844be9d",
   "metadata": {},
   "outputs": [
    {
     "name": "stdout",
     "output_type": "stream",
     "text": [
      "['a', 'b', 'c', 'd', 'e', 'f', 'g', 'h']\n",
      "____________________\n",
      "lst_2.append(99)->['a', 'b', 'c', 'd', 'e', 'f', 'g', 'h', 99]\n",
      "____________________\n",
      "lst_2.append(list(range(105,109,2)))->['a', 'b', 'c', 'd', 'e', 'f', 'g', 'h', 99, [105, 107]]\n",
      "____________________\n",
      "lst_2.extend(lst_spechars)->['a', 'b', 'c', 'd', 'e', 'f', 'g', 'h', 99, [105, 107], '*', ')', '*']\n",
      "lst_2.count('e')=1\n",
      "lst_2.index('e')=88\n",
      "____________________\n",
      "lst_2.insert(3,[100,120,150])->['a', 'b', 'c', [100, 120, 150], 'd', 'e', 'f', 'g', 'h', 99, [105, 107], '*', ')', '*']\n",
      "lst_2.pop(3)_popup->[100, 120, 150]\n",
      "lst_2.pop(3)_retention->['a', 'b', 'c', 'd', 'e', 'f', 'g', 'h', 99, [105, 107], '*', ')', '*']\n",
      "____________________\n",
      "lst_2.remove(99)_retention->['a', 'b', 'c', 'd', 'e', 'f', 'g', 'h', [105, 107], '*', ')', '*']\n",
      "____________________\n",
      "list_n.sort()->[1, 2, 5, 9, 10]\n"
     ]
    }
   ],
   "source": [
    "lst_2=list(map(chr,range(97,105)))\n",
    "print(lst_2)\n",
    "print(\"_\"*20)\n",
    "lst_2.append(99)\n",
    "print(\"lst_2.append(99)->{}\".format(lst_2))\n",
    "print(\"_\"*20)\n",
    "lst_2.append(list(range(105,109,2)))\n",
    "print(\"lst_2.append(list(range(105,109,2)))->{}\".format(lst_2))\n",
    "print(\"_\"*20)\n",
    "lst_spechars=['*',')','*']\n",
    "lst_2.extend(lst_spechars)\n",
    "print(\"lst_2.extend(lst_spechars)->{}\".format(lst_2))\n",
    "print(\"lst_2.count('e')={}\".format(lst_s_2.count('e')))\n",
    "print(\"lst_2.index('e')={}\".format(lst_s_2.index('e')))\n",
    "print(\"_\"*20)\n",
    "lst_2.insert(3,[100,120,150])\n",
    "print(\"lst_2.insert(3,[100,120,150])->{}\".format(lst_2))\n",
    "print(\"lst_2.pop(3)_popup->{}\".format(lst_2.pop(3)))\n",
    "print(\"lst_2.pop(3)_retention->{}\".format(lst_2))\n",
    "print(\"_\"*20)\n",
    "lst_2.remove(99)\n",
    "print(\"lst_2.remove(99)_retention->{}\".format(lst_2))\n",
    "print(\"_\"*20)\n",
    "list_n=[2,9,5,10,1]\n",
    "list_n.sort()\n",
    "print(\"list_n.sort()->{}\".format(list_n))"
   ]
  },
  {
   "cell_type": "code",
   "execution_count": 10,
   "id": "063e4e68-476c-44ba-8435-83893463482f",
   "metadata": {},
   "outputs": [
    {
     "name": "stdout",
     "output_type": "stream",
     "text": [
      "tuple_1=7,8,9->(7, 8, 9)\n",
      "____________________\n",
      "3*(50*3,)->(150, 150, 150)\n",
      "____________________\n",
      "tuple((7,8,9))->(7, 8, 9)\n",
      "____________________\n",
      "tuple([7,8,9])->(7, 8, 9)\n"
     ]
    }
   ],
   "source": [
    "tuple_1=7,8,9#元组\n",
    "print(\"tuple_1=7,8,9->{}\".format(tuple_1))\n",
    "print(\"_\"*20)\n",
    "print(\"3*(50*3,)->{}\".format(3*(50*3,)))\n",
    "print(\"_\"*20)\n",
    "print(\"tuple((7,8,9))->{}\".format(tuple((7,8,9)))) #用()\n",
    "print(\"_\"*20)\n",
    "print(\"tuple([7,8,9])->{}\".format(tuple([7,8,9]))) #用[]\n"
   ]
  },
  {
   "cell_type": "code",
   "execution_count": 27,
   "id": "df100553-d2a9-4412-b2fb-74abb67cee28",
   "metadata": {},
   "outputs": [
    {
     "name": "stdout",
     "output_type": "stream",
     "text": [
      "items->[(0, [0, 1, 2, 3, 4]), (1, [[19, 14, 18, 17]]), (2, 'python')]\n",
      "____________________\n",
      "dic=dict(items)->{0: [0, 1, 2, 3, 4], 1: [[19, 14, 18, 17]], 2: 'python'}\n",
      "____________________\n",
      "dic[0]->[0, 1, 2, 3, 4]\n"
     ]
    }
   ],
   "source": [
    "import random\n",
    "items=[(0,[i for i in range(5)]),(1,[random.sample(list(range(10,20,1)),4)]),(2,'python')] #[i for i in range(5)] 为列表推导式 \n",
    "print(\"items->{}\".format(items))\n",
    "print(\"_\"*20)\n",
    "dic=dict(items)\n",
    "print(\"dic=dict(items)->{}\".format(dic))\n",
    "print(\"_\"*20)\n",
    "print(\"dic[0]->{}\".format(dic[0]))\n"
   ]
  },
  {
   "cell_type": "code",
   "execution_count": 28,
   "id": "56547664-1f5c-4577-bcab-6166b47882c6",
   "metadata": {},
   "outputs": [
    {
     "name": "stdout",
     "output_type": "stream",
     "text": [
      "len(dic)->3\n",
      "dic[3]=(random.random(),random.uniform(200,300))->{0: [0, 1, 2, 3, 4], 1: [[19, 14, 18, 17]], 2: 'python', 3: (0.8184239732564043, 22.062959905383497)}\n",
      "____________________\n",
      "del dic[1]->{0: [0, 1, 2, 3, 4], 2: 'python', 3: (0.8184239732564043, 22.062959905383497)}\n",
      "3 in dic->True\n",
      "5 in dic->False\n",
      "____________________\n",
      "dic.keys()->dict_keys([0, 2, 3])\n",
      "dic.values()->dict_values([[0, 1, 2, 3, 4], 'python', (0.8184239732564043, 22.062959905383497)])\n",
      "dic.items()->dict_items([(0, [0, 1, 2, 3, 4]), (2, 'python'), (3, (0.8184239732564043, 22.062959905383497))])\n",
      "____________________\n",
      "list(dic.keys())->[0, 2, 3]\n"
     ]
    }
   ],
   "source": [
    "print(\"len(dic)->{}\".format(len(dic)))#字典的基本操作\n",
    "dic[3]=(random.random(),random.uniform(20,30))\n",
    "print(\"dic[3]=(random.random(),random.uniform(200,300))->{}\".format(dic))\n",
    "print(\"_\"*20)\n",
    "del dic[1]\n",
    "print(\"del dic[1]->{}\".format(dic))\n",
    "print(\"3 in dic->{}\".format(3 in dic))\n",
    "print(\"5 in dic->{}\".format(5 in dic))\n",
    "print(\"_\"*20)\n",
    "print(\"dic.keys()->{}\".format(dic.keys())) #应该放在字典的方法一节里\n",
    "print(\"dic.values()->{}\".format(dic.values()))\n",
    "print(\"dic.items()->{}\".format(dic.items()))\n",
    "print(\"_\"*20)\n",
    "print(\"list(dic.keys())->{}\".format(list(dic.keys())))\n",
    "\n"
   ]
  },
  {
   "cell_type": "code",
   "execution_count": 29,
   "id": "d53d1052-0743-46b5-ae2f-13d3c679af0f",
   "metadata": {},
   "outputs": [
    {
     "name": "stdout",
     "output_type": "stream",
     "text": [
      "(0, (0, [0, 1, 2, 3, 4]))\n",
      "(1, (2, 'python'))\n",
      "(2, (3, (0.8184239732564043, 22.062959905383497)))\n"
     ]
    }
   ],
   "source": [
    "for b in enumerate(dic.items()): #for循环在后文\n",
    "    print(b)\n"
   ]
  },
  {
   "cell_type": "code",
   "execution_count": 114,
   "id": "8fc2db9f-1cd4-4f8c-b4d5-935c94fa7c32",
   "metadata": {},
   "outputs": [
    {
     "name": "stdout",
     "output_type": "stream",
     "text": [
      "lst_A=[5, 8, 11, 14],lst_B=[100, 115, 130, 145]\n",
      "dic_2={1: [5, 8, 11, 14], 2: [100, 115, 130, 145]}\n",
      "____________________\n",
      "dic_assignment={1: [5, 8, 11, 14], 2: [100, 115, 130, 145]}\n",
      "dic_2.clear()->{}\n",
      "dic_assignment={}\n",
      "____________________\n",
      "dic_2[3]=list(range(1,7,2))->{3: [1, 3, 5]}\n",
      "dic_copy=dic_2.copy()->{3: [1, 3, 5]}\n",
      "dic_2[4]=[3,7]->{3: [1, 3, 5], 4: [3, 7]}\n",
      "dic_copy={3: [1, 3, 5]}\n",
      "dic_copy[3].remove(3)->{3: [1, 5]}\n",
      "dic_copy.setdefault(6,[77,99])->{3: [1, 5], 6: [77, 99]}\n",
      "dic_2.pop(3)->{4: [3, 7]}\n",
      "dic_update={2: [5, 7], 4: [3, 2]}\n",
      "dic_2.update(dic_update->{4: [3, 2], 2: [5, 7]}\n",
      "dic_2.get(9)->None\n",
      "dic_2.popitem()->{4: [3, 2]}\n",
      "dic_3={}.fromkeys([0,1,2,3,4,'A'])->{0: None, 1: None, 2: None, 3: None, 4: None, 'A': None}\n"
     ]
    }
   ],
   "source": [
    "#字典的方法\n",
    "lst_A=list(range(5,15,3))\n",
    "lst_B=list(range(100,150,15))\n",
    "print(\"lst_A={},lst_B={}\".format(lst_A,lst_B))\n",
    "dic_2={1:lst_A,2:lst_B}\n",
    "print(\"dic_2={}\".format(dic_2))\n",
    "print(\"_\"*20)\n",
    "dic_assignment=dic_2\n",
    "print(\"dic_assignment={}\".format(dic_assignment))\n",
    "dic_2.clear()\n",
    "print(\"dic_2.clear()->{}\".format(dic_2))\n",
    "print(\"dic_assignment={}\".format(dic_assignment))\n",
    "print(\"_\"*20)\n",
    "dic_2[3]=list(range(1,7,2))\n",
    "print(\"dic_2[3]=list(range(1,7,2))->{}\".format(dic_2))\n",
    "dic_copy=dic_2.copy()\n",
    "print(\"dic_copy=dic_2.copy()->{}\".format(dic_copy))\n",
    "dic_2[4]=[3,7]\n",
    "print(\"dic_2[4]=[3,7]->{}\".format(dic_2))\n",
    "print(\"dic_copy={}\".format(dic_copy))\n",
    "dic_copy[3].remove(3)\n",
    "print(\"dic_copy[3].remove(3)->{}\".format(dic_copy))\n",
    "dic_copy.setdefault(6,[77,99]) #返回指定键的值，如果不存在该键，则字典增加新的键/值对\n",
    "print(\"dic_copy.setdefault(6,[77,99])->{}\".format(dic_copy))\n",
    "dic_2.pop(3) #移除指定键/值，并返回该值\n",
    "print(\"dic_2.pop(3)->{}\".format(dic_2))\n",
    "dic_update={2:[5,7],4:[3,2]}\n",
    "print(\"dic_update={}\".format(dic_update))\n",
    "dic_2.update(dic_update) #更新字典\n",
    "print(\"dic_2.update(dic_update->{}\".format(dic_2))\n",
    "print(\"dic_2.get(9)->{}\".format(dic_2.get(9)))\n",
    "dic_2.popitem() #随即弹出一对键/值，并在该字典中移除\n",
    "print(\"dic_2.popitem()->{}\".format(dic_2))\n",
    "dic_3={}.fromkeys([0,1,2,3,4,'A']) #给定键，建立值为空的字典\n",
    "print(\"dic_3={}\"+\".fromkeys([0,1,2,3,4,'A'])->{}\".format(dic_3)) #找下escape characters 脱字符\n"
   ]
  },
  {
   "cell_type": "code",
   "execution_count": 115,
   "id": "bb88d739-31be-44bd-8d25-1c9bf0788d08",
   "metadata": {},
   "outputs": [
    {
     "name": "stdout",
     "output_type": "stream",
     "text": [
      "lst_s_1=list(\"Hello Python!\")->['H', 'e', 'l', 'l', 'o', ' ', 'P', 'y', 't', 'h', 'o', 'n', '!']\n",
      "\"Hellow\"+\" Python!\"->Hellow Python!\n",
      "\"+\".join(str(123456))->1+2+3+4+5+6\n",
      "len(\"Hellow Python!\")->14\n",
      "____________________\n",
      "coordinates.split(\",\")->['120', '30', '9']\n",
      "eval(coordinates)->(120, 30, 9)\n",
      "____________________\n",
      "\"Hello Python!\".lower()->hello python!\n",
      "\"Hello Python!\".upper()->HELLO PYTHON!\n",
      "\"Hello Python!\"[:5]->Hello\n",
      "____________________\n",
      "\"    Hello Python!    \".strip()->Hello Python!\n",
      "\"Hello Python!\".replace(\"Python\",\"rhino\")->Hello rhino!\n",
      "hello_lst.sort()>[' ', '!', 'H', 'P', 'e', 'h', 'l', 'l', 'n', 'o', 'o', 't', 'y']\n",
      "\"Hello Python!\".find(\"Py\")->6\n"
     ]
    }
   ],
   "source": [
    "lst_s_1=list(\"Hello Python!\")\n",
    "print(\"lst_s_1=list(\\\"Hello Python!\\\")->{}\".format(lst_s_1)) #\"\\\" escape character转译字符\n",
    "print(\"\\\"Hellow\\\"+\\\" Python!\\\"->{}\".format(\"Hellow\"+\" Python!\"))\n",
    "print(\"\\\"+\\\".join(str(123456))->{}\".format(\"+\".join(str(123456))))\n",
    "print(\"len(\\\"Hellow Python!\\\")->{}\".format(len(\"Hellow Python!\")))\n",
    "print(\"_\"*20)\n",
    "coordinates=\"120,30,9\"\n",
    "print(\"coordinates.split(\\\",\\\")->{}\".format(coordinates.split(\",\")))\n",
    "print(\"eval(coordinates)->{}\".format(eval(coordinates))) #通常用eval()方法将字符串，转换为对应数值形式；\n",
    "print(\"_\"*20)\n",
    "print(\"\\\"Hello Python!\\\".lower()->{}\".format(\"Hello Python!\".lower()))\n",
    "print(\"\\\"Hello Python!\\\".upper()->{}\".format(\"Hello Python!\".upper()))\n",
    "print(\"\\\"Hello Python!\\\"[:5]->{}\".format(\"Hello Python!\"[:5]))\n",
    "print(\"_\"*20)\n",
    "print(\"\\\"    Hello Python!    \\\".strip()->{}\".format(\"    Hello Python!    \".strip()))\n",
    "print(\"\\\"Hello Python!\\\".replace(\\\"Python\\\",\\\"rhino\\\")->{}\".format(\"Hello Python!\".replace(\"Python\",\"rhino\")))\n",
    "hello_lst=list(\"Hello Python!\")\n",
    "hello_lst.sort()\n",
    "print(\"hello_lst.sort()>{}\".format(hello_lst))\n",
    "print(\"\\\"Hello Python!\\\".find(\\\"Py\\\")->{}\".format(\"Hello Python!\".find(\"Py\")))\n"
   ]
  },
  {
   "cell_type": "code",
   "execution_count": 116,
   "id": "c453bcd1-414b-4e64-8742-54b7a2d4f6bf",
   "metadata": {},
   "outputs": [
    {
     "name": "stdout",
     "output_type": "stream",
     "text": [
      "new_str=format_str % values->Hello,Peace and Love!\n"
     ]
    }
   ],
   "source": [
    "format_str=\"Hello,%s and %s!\"\n",
    "values=(\"Peace\",\"Love\")\n",
    "new_str=format_str % values\n",
    "print(\"new_str=format_str % values->{}\".format(new_str))"
   ]
  },
  {
   "cell_type": "code",
   "execution_count": 117,
   "id": "36f9979b-5057-4ffe-b060-0aae64107ec3",
   "metadata": {},
   "outputs": [
    {
     "name": "stdout",
     "output_type": "stream",
     "text": [
      "3.14159,      3.14,3.14,!,Hello,3.141593\n"
     ]
    }
   ],
   "source": [
    "format_str_3=\"%.5f,%10.2f,%.2f,%.5s,%.*s,%4f\"\n",
    "new_str_3=format_str_3%(pi,pi,pi,\"!\",5,\"Hello !\",pi)\n",
    "print(\"{}\".format(new_str_3))\n"
   ]
  },
  {
   "cell_type": "code",
   "execution_count": 118,
   "id": "fe8ef807-3c05-486b-a3f4-59ac0147e3ac",
   "metadata": {},
   "outputs": [
    {
     "name": "stdout",
     "output_type": "stream",
     "text": [
      "s_1=s_template_1.substitute(x=\"Python\")->Python,glorious,Python!\n",
      "s_2=s_template_2.substitute(x=\"py\")->python is amazing!\n",
      "substitute_dict={'x': 'Python', 'y': 'Grasshopper'}\n",
      "s_3=s_template_3.substitute(substitute_dict)->Python and Grasshopper are both amazing!\n"
     ]
    }
   ],
   "source": [
    "from string import Template\n",
    "s_template_1=Template(\"$x,glorious,$x!\")\n",
    "s_1=s_template_1.substitute(x=\"Python\")\n",
    "print(\"s_1=s_template_1.substitute(x=\\\"Python\\\")->{}\".format(s_1))\n",
    "s_template_2=Template(\"${x}thon is amazing!\")\n",
    "s_2=s_template_2.substitute(x=\"py\")\n",
    "print(\"s_2=s_template_2.substitute(x=\\\"py\\\")->{}\".format(s_2))\n",
    "s_template_3=Template(\"$x and $y are both amazing!\")\n",
    "substitute_dict=dict([('x','Python'),('y','Grasshopper')])\n",
    "print(\"substitute_dict={}\".format(substitute_dict))\n",
    "s_3=s_template_3.substitute(substitute_dict)\n",
    "print(\"s_3=s_template_3.substitute(substitute_dict)->{}\".format(s_3))\n"
   ]
  },
  {
   "cell_type": "code",
   "execution_count": 85,
   "id": "b8576643-7daa-490e-9bf1-922fa33896d8",
   "metadata": {},
   "outputs": [
    {
     "name": "stdout",
     "output_type": "stream",
     "text": [
      "re.findall(pattern_1,text)->['Py']\n",
      "re.findall(pattern_2,text)->[]\n"
     ]
    }
   ],
   "source": [
    "pattern_1='Py'\n",
    "text=\"Hello Python!\"\n",
    "print(\"re.findall(pattern_1,text)->{}\".format(re.findall(pattern_1,text)))#findall 正则表达式\n",
    "pattern_2='Python'\n",
    "text=\"Hello\"\n",
    "print(\"re.findall(pattern_2,text)->{}\".format(re.findall(pattern_2,text)))\n"
   ]
  },
  {
   "cell_type": "code",
   "execution_count": 89,
   "id": "b4ae6c96-a789-4f44-a303-8b960152f70f",
   "metadata": {},
   "outputs": [
    {
     "name": "stdout",
     "output_type": "stream",
     "text": [
      "re.findall('python|grasshopper','python')->['python']\n",
      "re.findall('python|grasshopper','grasshopper')->['grasshopper']\n",
      "re.findall('python|','grasshopper and python')->['', '', '', '', '', '', '', '', '', '', '', '', '', '', '', '', 'python', '']\n"
     ]
    }
   ],
   "source": [
    "print(\"re.findall('python|grasshopper','python')->{}\".format(re.findall('python|grasshopper','python')))#(|)管道符号\n",
    "print(\"re.findall('python|grasshopper','grasshopper')->{}\".format(re.findall('python|grasshopper','grasshopper')))\n",
    "print(\"re.findall('python|','grasshopper and python')->{}\".format(re.findall('python|','grasshopper and python')))\n"
   ]
  },
  {
   "cell_type": "code",
   "execution_count": 98,
   "id": "b0292888-ce53-4980-b084-d07b085029dd",
   "metadata": {},
   "outputs": [
    {
     "name": "stdout",
     "output_type": "stream",
     "text": [
      "re.findall('\\d','number=9')->['9']\n",
      "re.findall('\\D','number=9')->['n', 'u', 'm', 'b', 'e', 'r', '=']\n",
      "re.findall('[^0-8]','number=9')->['n', 'u', 'm', 'b', 'e', 'r', '=', '9']\n"
     ]
    }
   ],
   "source": [
    "print(\"re.findall('\\d','number=9')->{}\".format(re.findall('\\d','number=9')))#\\d \\D\n",
    "print(\"re.findall('\\D','number=9')->{}\".format(re.findall('\\D','number=10')))\n",
    "print(\"re.findall('[^0-8]','number=9')->{}\".format(re.findall('[^0-8]','number=9')))\n"
   ]
  },
  {
   "cell_type": "code",
   "execution_count": 100,
   "id": "2507f838-c9e1-40ad-b0dd-ccd14ce68291",
   "metadata": {},
   "outputs": [
    {
     "name": "stdout",
     "output_type": "stream",
     "text": [
      "re.findall('[a-z]','python')->['p', 'y', 't', 'h', 'o', 'n']\n",
      "re.search('[a-z]+','python')-><re.Match object; span=(0, 6), match='python'>\n",
      "re.search('[a-z]+','python')->found it!\n",
      "re.split(',','Hello,,,,,,Python!')->['Hello', '', '', '', '', '', 'Python!']\n",
      "re.sub('Python','Grasshopper','Hello Python!')->Hello Grasshopper!\n",
      "pattern_compile.findall('Hello,,,,,,Python!')->['Python']\n",
      "re.match('p','python')->found it!\n"
     ]
    }
   ],
   "source": [
    "print(\"re.findall('[a-z]','python')->{}\".format(re.findall('[a-z]','python-3.0')))#re模块的方法\n",
    "print(\"re.search('[a-z]+','python')->{}\".format(re.search('[a-z]+','python')))\n",
    "if re.search('[a-z]+','python'):\n",
    "    print(\"re.search('[a-z]+','python')->found it!\")\n",
    "print(\"re.split(',','Hello,,,,,,Python!')->{}\".format(re.split(',','Hello,,,,,,Python!')))\n",
    "print(\"re.sub('Python','Grasshopper','Hello Python!')->{}\".format(re.sub('Python','Grasshopper','Hello Python!')))\n",
    "\n",
    "pattern_compile=re.compile('Python')\n",
    "print(\"pattern_compile.findall('Hello,,,,,,Python!')->{}\".format(pattern_compile.findall('Hello,,,,,,Python!')))\n",
    "\n",
    "if re.match('p','python'):\n",
    "    print(\"re.match('p','python')->found it!\")\n"
   ]
  },
  {
   "cell_type": "code",
   "execution_count": 104,
   "id": "cf0caae6-27cf-4514-b1ab-41da4fb0e8c0",
   "metadata": {},
   "outputs": [
    {
     "name": "stdout",
     "output_type": "stream",
     "text": [
      "match_1.gourp(1)->python\n",
      "match_1.start(1)->4\n",
      "match_1.end(1)->10\n",
      "match_1.span(1)->(4, 10)\n",
      "match_2.group(1)->python\n",
      "match_2.group(2)->org\n"
     ]
    }
   ],
   "source": [
    "match_1=re.match(r'www\\.(.*)\\..{2}','www.python.org')\n",
    "print(\"match_1.gourp(1)->{}\".format(match_1.group(1)))\n",
    "print(\"match_1.start(1)->{}\".format(match_1.start(1)))\n",
    "print(\"match_1.end(1)->{}\".format(match_1.end(1)))\n",
    "print(\"match_1.span(1)->{}\".format(match_1.span(1)))\n",
    "match_2=re.match(r'www\\.(.*)\\.(.{3})','www.python.org')\n",
    "print(\"match_2.group(1)->{}\".format(match_2.group(1)))\n",
    "print(\"match_2.group(2)->{}\".format(match_2.group(2)))\n"
   ]
  },
  {
   "cell_type": "code",
   "execution_count": 113,
   "id": "471b614a-93a7-45b0-a4bc-a926ee4e56e8",
   "metadata": {},
   "outputs": [
    {
     "name": "stdout",
     "output_type": "stream",
     "text": [
      "lst_1=[29, 31, 33, 35]\n",
      "____________________\n",
      "for i in lst_1:\n",
      "29\n",
      "31\n",
      "33\n",
      "35\n",
      "for i in range(len(lst_1)):\n",
      "idx=0,val=29\n",
      "idx=1,val=31\n",
      "idx=2,val=33\n",
      "idx=3,val=35\n",
      "____________________\n",
      "dic_4={'a': 1, 'b': 2, 'c': 3, 'd': 4}\n",
      "____________________\n",
      "for k in dic_4:\n",
      "a\n",
      "b\n",
      "c\n",
      "d\n",
      "for k,v in dic_4.items():\n",
      "key=a,val=1\n",
      "key=b,val=2\n",
      "key=c,val=3\n",
      "key=d,val=4\n"
     ]
    }
   ],
   "source": [
    "#for循环\n",
    "lst_1=list(range(29,37,2))\n",
    "print(\"lst_1={}\".format(lst_1))\n",
    "print(\"_\"*20)\n",
    "print(\"for i in lst_1:\")\n",
    "for i in lst_1:\n",
    "    print(i)\n",
    "print(\"for i in range(len(lst_1)):\")\n",
    "for i in range(len(lst_1)):\n",
    "    print(\"idx={},val={}\".format(i,lst_1[i]))\n",
    "print(\"_\"*20) \n",
    "dic_4=dict(a=1,b=2,c=3,d=4)\n",
    "print(\"dic_4={}\".format(dic_4))\n",
    "print(\"_\"*20)\n",
    "print(\"for k in dic_4:\")\n",
    "for k in dic_4:\n",
    "    print(k)\n",
    "print(\"for k,v in dic_4.items():\")\n",
    "for k,v in dic_4.items():\n",
    "    print(\"key={},val={}\".format(k,v))\n"
   ]
  },
  {
   "cell_type": "code",
   "execution_count": null,
   "id": "122c8319-547d-4874-a749-f59a66395f6b",
   "metadata": {},
   "outputs": [],
   "source": []
  },
  {
   "cell_type": "code",
   "execution_count": null,
   "id": "e7b10cc2-8613-41c2-9b74-eade83180226",
   "metadata": {},
   "outputs": [],
   "source": []
  },
  {
   "cell_type": "code",
   "execution_count": 73,
   "id": "e6f36115-3098-444c-9258-f8ee5bcd304f",
   "metadata": {},
   "outputs": [
    {
     "name": "stdout",
     "output_type": "stream",
     "text": [
      "f_convert_a('3.1415')->3.1415\n",
      "f_convert_a('string')->string\n",
      "f_convert_a(3,6,7)->(3, 6, 7)\n"
     ]
    }
   ],
   "source": [
    "def f_convert_a(x):\n",
    "    try:\n",
    "        return float(x)\n",
    "    except:\n",
    "        return x\n",
    "print(\"f_convert_a('3.1415')->{}\".format(f_convert_a('3.1415')))    \n",
    "print(\"f_convert_a('string')->{}\".format(f_convert_a('string')))  \n",
    "print(\"f_convert_a(3,6,7)->{}\".format(f_convert_a((3,6,7))))  \n",
    "\n"
   ]
  },
  {
   "cell_type": "code",
   "execution_count": 125,
   "id": "bbe24de9-2cef-407c-8c44-3d3fd033a823",
   "metadata": {},
   "outputs": [
    {
     "name": "stdout",
     "output_type": "stream",
     "text": [
      "x=1\n",
      "x=11\n",
      "x=21\n",
      "x=31\n",
      "x=41\n",
      "____________________\n",
      "x=1\n",
      "x=11\n",
      "x=21\n",
      "x=31\n",
      "sys.maxsize=9223372036854775807\n",
      "i=0\n",
      "i=1\n",
      "i=2\n",
      "i=3\n",
      "i=4\n",
      "i=5\n",
      "i=6\n",
      "i=7\n",
      "i=8\n",
      "i=9\n",
      "i=10\n",
      "i=11\n",
      "i=12\n",
      "i=13\n",
      "i=14\n",
      "i=15\n",
      "i=16\n",
      "i=17\n",
      "i=18\n",
      "i=19\n",
      "i=20\n"
     ]
    }
   ],
   "source": [
    "#while循环\n",
    "x=1\n",
    "while x<=50:\n",
    "    print(\"x={}\".format(x))\n",
    "    x+=10 #增量赋值; x*=2    \n",
    "print(\"_\"*20)\n",
    "x=1\n",
    "while x<=50:\n",
    "    print(\"x={}\".format(x))\n",
    "    x+=10 \n",
    "    if x>=40:break    \n",
    "    \n",
    "import sys\n",
    "print(\"sys.maxsize={}\".format(sys.maxsize))\n",
    "for i in range(sys.maxsize):\n",
    "    print(\"i={}\".format(i))  #?\n",
    "    i+=10\n",
    "    if i>=30:break\n"
   ]
  },
  {
   "cell_type": "code",
   "execution_count": 138,
   "id": "9b2e8d41-7618-4f94-b823-0c8d3298b155",
   "metadata": {},
   "outputs": [
    {
     "name": "stdout",
     "output_type": "stream",
     "text": [
      "zip_lst=zip(lst_a,lst_b)-><zip object at 0x000001BA5E6FEDC0>\n",
      "dict(zip_lst)->{0: 'point_a', 1: 'point_b', 2: 'point_c', 3: 'point_d'}\n",
      "0 point_a\n",
      "1 point_b\n",
      "2 point_c\n",
      "3 point_d\n",
      "a=(0, 1, 2, 3),b=('point_a', 'point_b', 'point_c', 'point_d')\n",
      "____________________\n",
      "dic_4={0: 'point_a', 1: 'point_b', 2: 'point_c', 3: 'point_d'}\n",
      "dict((i,v) for i,v in enumerate(lst_c))->{0: 'point_a', 1: 'point_b', 2: 'point_c', 3: 'point_d'}\n",
      "____________________\n",
      "0:0,point_a\n",
      "1:1,point_b\n",
      "2:2,point_c\n",
      "3:3,point_d\n"
     ]
    }
   ],
   "source": [
    "lst_a=[0,1,2,3]#并行迭代\n",
    "lst_b=['point_a','point_b','point_c','point_d']\n",
    "zip_lst=zip(lst_a,lst_b) #The zip() function takes iterables (can be zero or more), aggregates them in a tuple, and returns it.\n",
    "print(\"zip_lst=zip(lst_a,lst_b)->{}\".format(zip_lst))\n",
    "print(\"dict(zip_lst)->{}\".format(dict(zip_lst)))\n",
    "\n",
    "zip_lst=zip(lst_a,lst_b) #迭代对象临时存储，读取完后为空\n",
    "for a,b in zip_lst:\n",
    "    print(a,b)    \n",
    "zip_lst=zip(lst_a,lst_b)\n",
    "a,b=zip(*zip_lst)\n",
    "print(\"a={},b={}\".format(a,b))\n",
    "print(\"_\"*20)\n",
    "lst_c=['point_a','point_b','point_c','point_d']#编号迭代\n",
    "dic_4={}\n",
    "for idx,value in enumerate(lst_c):\n",
    "    dic_4[idx]=value\n",
    "print(\"dic_4={}\".format(dic_4))\n",
    "print(\"dict((i,v) for i,v in enumerate(lst_c))->{}\".format(dict((i,v) for i,v in enumerate(lst_c)))) #list comprehension\n",
    "print(\"_\"*20)\n",
    "for i,(a,b) in enumerate(zip(lst_a,lst_b)):\n",
    "    print('%d:%s,%s'%(i,a,b))\n",
    "\n",
    "\n"
   ]
  },
  {
   "cell_type": "code",
   "execution_count": 145,
   "id": "6170e660-04b1-46df-a08f-79a54f07db8a",
   "metadata": {},
   "outputs": [
    {
     "name": "stdout",
     "output_type": "stream",
     "text": [
      "[x*x for x in range(3,37,2) if x%2==0]->[]\n",
      "[(x,y) for x in range(3)for y in range(2)]->[(0, 0), (0, 1), (1, 0), (1, 1), (2, 0), (2, 1)]\n",
      "[(x,y) for x,y in zip(range(3),range(2))]->[(0, 0), (1, 1)]\n",
      "[[a for a in range(1,10,3)],2,3,[b for b in range(60,100,7)],[[c for c in range(1000,2000,120)],3,9]]->[[1, 4, 7], 2, 3, [60, 67, 74, 81, 88, 95], [[1000, 1120, 1240, 1360, 1480, 1600, 1720, 1840, 1960], 3, 9]]\n",
      "flatten_lst(nested_list)->[1, 4, 7, 2, 3, 60, 67, 74, 81, 88, 95, 1000, 1120, 1240, 1360, 1480, 1600, 1720, 1840, 1960, 3, 9]\n"
     ]
    }
   ],
   "source": [
    "#列表推导式\n",
    "print(\"[x*x for x in range(3,37,5) if x%2==0]->{}\".format([x*x for x in range(3,37,5) if x%2==0]))\n",
    "print(\"[(x,y) for x in range(3)for y in range(2)]->{}\".format([(x,y) for x in range(3)for y in range(2)]))\n",
    "print(\"[(x,y) for x,y in zip(range(3),range(2))]->{}\".format([(x,y) for x,y in zip(range(3),range(2))]))\n",
    "nested_list=[[a for a in range(1,10,3)],2,3,[b for b in range(60,100,7)],[[c for c in range(1000,2000,120)],3,9]]\n",
    "print(\"[[a for a in range(1,10,3)],2,3,[b for b in range(60,100,7)],[[c for c in range(1000,2000,120)],3,9]]->{}\".format(nested_list)) #嵌套列表推导式\n",
    "\n",
    "flatten_lst=lambda lst: [m for n_lst in lst for m in flatten_lst(n_lst)] if type(lst) is list else [lst] #展平列表常用，可以放置到单独的.py文件中调用。lambda函数后文阐述\n",
    "print(\"flatten_lst(nested_list)->{}\".format(flatten_lst(nested_list)))\n"
   ]
  },
  {
   "cell_type": "code",
   "execution_count": 149,
   "id": "9fa36324-d92f-4709-8419-723224782b6c",
   "metadata": {},
   "outputs": [
    {
     "name": "stdout",
     "output_type": "stream",
     "text": [
      "Positive and larger than or equal to 10.\n"
     ]
    }
   ],
   "source": [
    "#条件语句\n",
    "x=10\n",
    "if x<0:\n",
    "    print('It is negative.')\n",
    "elif x==0:\n",
    "    print('Equal to zero.')\n",
    "elif 0<x<10:\n",
    "    print('Positive but smaller than 10')\n",
    "else:\n",
    "    print('Positive and larger than or equal to 10.')\n"
   ]
  },
  {
   "cell_type": "code",
   "execution_count": 154,
   "id": "313cfeb7-4320-43f2-9077-358a256b0b45",
   "metadata": {},
   "outputs": [
    {
     "name": "stdout",
     "output_type": "stream",
     "text": [
      "x==y->True\n",
      "x is y->True\n",
      "x==z->True\n",
      "x is z->False\n",
      "x is not y->False\n",
      "x is not z->True\n",
      "id_x:1899959893056;id_y:1899959893056;id_z:1899959891776\n",
      "x=[2, 4],y=[2, 4],z=[2, 4, 6] after del x[2]\n",
      "3 in x->True\n",
      "0 in x->False\n",
      "3 not in x->False\n",
      "0 not in x->True\n",
      "a<c<b kidding!!!\n"
     ]
    }
   ],
   "source": [
    "#==与is\n",
    "x=y=[2,4,6]\n",
    "z=[2,4,6]\n",
    "print(\"x==y->{}\".format(x==y))\n",
    "print(\"x is y->{}\".format(x is y))\n",
    "print(\"x==z->{}\".format(x==z))\n",
    "print(\"x is z->{}\".format(x is z))\n",
    "print(\"x is not y->{}\".format(x is not y))\n",
    "print(\"x is not z->{}\".format(x is not z))\n",
    "print(\"id_x:{};id_y:{};id_z:{}\".format(id(x),id(y),id(z)))\n",
    "del x[2]\n",
    "print(\"x={},y={},z={} after del x[2]\".format(x,y,z))\n",
    "#in与not in\n",
    "x=[3,6,9]\n",
    "print(\"3 in x->{}\".format(3 in x))\n",
    "print(\"0 in x->{}\".format(0 in x))\n",
    "print(\"3 not in x->{}\".format(3 not in x))\n",
    "print(\"0 not in x->{}\".format(0 not in x))\n",
    "#布尔运算符\n",
    "a,b,c=0,1,2\n",
    "if c>a and c<b:\n",
    "    print('a<c<b')\n",
    "else: print('a<c<b kidding!!!')\n"
   ]
  },
  {
   "cell_type": "code",
   "execution_count": 161,
   "id": "0b6e6a2e-b52e-41d8-8e68-822ac7744fce",
   "metadata": {},
   "outputs": [
    {
     "name": "stdout",
     "output_type": "stream",
     "text": [
      "simple_func(3,2)->11\n",
      "simple_func(2,3)->7\n",
      "simple_func(y=4,x=3)->13\n"
     ]
    }
   ],
   "source": [
    "#函数\n",
    "def simple_func(x,y):\n",
    "    z=pow(x,2)+y\n",
    "    return z\n",
    "print(\"simple_func(3,2)->{}\".format(simple_func(3,2)))\n",
    "print(\"simple_func(2,3)->{}\".format(simple_func(2,3)))\n",
    "print(\"simple_func(y=4,x=3)->{}\".format(simple_func(y=4,x=3)))\n",
    "\n"
   ]
  },
  {
   "cell_type": "code",
   "execution_count": 164,
   "id": "b5f82c22-26bd-4a39-b9c5-180eb3388f5d",
   "metadata": {},
   "outputs": [
    {
     "name": "stdout",
     "output_type": "stream",
     "text": [
      "fibonacci(5，10)->[5, 8, 13, 21, 34, 55, 89, 144, 233]\n",
      "fibonacci(6，10)->[8, 13, 21, 34, 55, 89, 144, 233, 377]\n"
     ]
    }
   ],
   "source": [
    "#定义斐波那契数列\n",
    "def fibonacci(s,count): \n",
    "    fib_lst=[0,1]\n",
    "    fib_part=[]\n",
    "    if s==0 or s==1:\n",
    "        fib_part[:]=fib_lst\n",
    "        for i in range(count-2):\n",
    "            fib_part.append(fib_part[-1]+fib_part[-2])\n",
    "    else:\n",
    "        while True:\n",
    "            fib_lst[:]=[fib_lst[1],fib_lst[0]+fib_lst[1]]\n",
    "            #print(fib_lst)\n",
    "            if fib_lst[1]-s>=0:break\n",
    "        fib_part[:]=fib_lst\n",
    "        if abs(fib_lst[0]-s)>=abs(fib_lst[1]-s):\n",
    "            for i in range(count-1):\n",
    "                fib_part.append(fib_part[-1]+fib_part[-2])\n",
    "            fib_part.pop(0)\n",
    "        else:\n",
    "            for i in range(count-2):\n",
    "                fib_part.append(fib_part[-1]+fib_part[-2])\n",
    "    return fib_part\n",
    "\n",
    "print(\"fibonacci(5，10)->{}\".format(fibonacci(6,9)))\n",
    "print(\"fibonacci(6，10)->{}\".format(fibonacci(7,9)))\n"
   ]
  },
  {
   "cell_type": "code",
   "execution_count": 165,
   "id": "343c4def-f8cc-48a1-8722-571fd3e8dd8e",
   "metadata": {},
   "outputs": [
    {
     "name": "stdout",
     "output_type": "stream",
     "text": [
      "5040\n"
     ]
    }
   ],
   "source": [
    "#递归recursion\n",
    "def factorial(n):\n",
    "    if n==1:\n",
    "        return 1\n",
    "    else:\n",
    "        return n*factorial(n-1)\n",
    "print(factorial(7))\n"
   ]
  },
  {
   "cell_type": "code",
   "execution_count": 169,
   "id": "77ecd9e4-ecb7-49a2-a9b7-4aa87bd12b47",
   "metadata": {},
   "outputs": [
    {
     "name": "stdout",
     "output_type": "stream",
     "text": [
      "____________________\n",
      "swift.fly->Whirring\n",
      "swift.eat()->\n",
      "Aaaah...\n",
      "swift.eat()->\n",
      "No.Thanks!\n",
      "swift.sing()->\n",
      "Squawk!\n",
      "____________________\n",
      "blackswift.sing()->\n",
      "Squawk!\n",
      "scarceswift.sing()->\n",
      "Squawk!\n",
      "____________________\n",
      "blackswift.fly->Whirring\n",
      "blackswift.fly after redefining the blackswif's attribute->humming\n",
      "scarceswift.fly->Whirring\n",
      "____________________\n",
      "Help on class Bird in module __main__:\n",
      "\n",
      "class Bird(builtins.object)\n",
      " |  Methods defined here:\n",
      " |  \n",
      " |  __init__(self)\n",
      " |      Initialize self.  See help(type(self)) for accurate signature.\n",
      " |  \n",
      " |  eat(self)\n",
      " |  \n",
      " |  ----------------------------------------------------------------------\n",
      " |  Data descriptors defined here:\n",
      " |  \n",
      " |  __dict__\n",
      " |      dictionary for instance variables (if defined)\n",
      " |  \n",
      " |  __weakref__\n",
      " |      list of weak references to the object (if defined)\n",
      " |  \n",
      " |  ----------------------------------------------------------------------\n",
      " |  Data and other attributes defined here:\n",
      " |  \n",
      " |  fly = 'Whirring'\n",
      "\n",
      "Squawk!\n"
     ]
    }
   ],
   "source": [
    "class Bird:\n",
    "    fly='Whirring' #美 /wɜːr/ \n",
    "    def __init__(self):\n",
    "        self.hungry=True\n",
    "    def eat(self):\n",
    "        if self.hungry:\n",
    "            print('Aaaah...')\n",
    "            self.hungry=False\n",
    "        else:\n",
    "            print('No.Thanks!')\n",
    "\n",
    "class Apodidae(Bird):  #/'æpədədi:/\n",
    "    def __init__(self):\n",
    "        super(Apodidae,self).__init__()\n",
    "        self.sound='Squawk!' #美 /skwɔːk/ \n",
    "    def sing(self):\n",
    "        print(self.sound)\n",
    "print(\"_\"*20)\n",
    "swift=Apodidae()\n",
    "print(\"swift.fly->{}\".format(swift.fly))\n",
    "print(\"swift.eat()->\")\n",
    "swift.eat()\n",
    "print(\"swift.eat()->\")\n",
    "swift.eat()\n",
    "print(\"swift.sing()->\")\n",
    "swift.sing()\n",
    "print(\"_\"*20)\n",
    "blackswift=Apodidae()\n",
    "scarceswift=Apodidae()\n",
    "print(\"blackswift.sing()->\")\n",
    "blackswift.sing()\n",
    "print(\"scarceswift.sing()->\")\n",
    "scarceswift.sing()\n",
    "print(\"_\"*20)\n",
    "print(\"blackswift.fly->{}\".format(blackswift.fly))\n",
    "blackswift.fly='humming' #重新赋予实例的属性\n",
    "print(\"blackswift.fly after redefining the blackswif's attribute->{}\".format(blackswift.fly))\n",
    "print(\"scarceswift.fly->{}\".format(scarceswift.fly))\n",
    "print(\"_\"*20)\n",
    "help(Bird)\n",
    "blackswift.sing()"
   ]
  },
  {
   "cell_type": "code",
   "execution_count": 177,
   "id": "82b297e8-e6e0-4887-b084-0b8af6f7d725",
   "metadata": {},
   "outputs": [],
   "source": [
    "#生成器方法\n",
    "def flatten(lst): #定义生成器（包含yield语句的函数）\n",
    "    try: #使用语句try\\except捕捉异常        \n",
    "        for n_lst in lst:  #循环列表            \n",
    "            for m in flatten(n_lst): #使用递归的方法循环子列表                \n",
    "                yield m  #使用yield语句，每次产生多个值，当返回一个值时函数就会被冻结，当再次激活时，从停止的那点开始执行\n",
    "    except TypeError:  #当函数被告知展开一个元素时，引发TypeError异常，生成器返回一个值\n",
    "        yield lst #生成器返回引发异常的一个值     "
   ]
  },
  {
   "cell_type": "code",
   "execution_count": 206,
   "id": "bafc9956-7f17-4b12-83be-45d4198f01ef",
   "metadata": {},
   "outputs": [
    {
     "name": "stdout",
     "output_type": "stream",
     "text": [
      "f_convert_a('3.1415')->3.1415\n",
      "f_convert_a('string')->string\n",
      "f_convert_a(3,4,5)->(3, 4, 5)\n",
      "____________________\n",
      "f_convert_c('3.1415')->3.1415\n",
      "f_convert_c('string')->string\n",
      "(3, 4, 5) TypeError\n",
      "f_convert_c(3,4,5)->None\n",
      "____________________\n",
      "f_convert_d('3.1415')->3.1415\n",
      "string ValueError or TypeError\n",
      "f_convert_d('string')->None\n",
      "(3, 6, 7) ValueError or TypeError\n",
      "f_convert_d(3,6,7)->None\n",
      "____________________\n",
      "f_convert_d('3.1415')->3.1415\n",
      "string ValueError or TypeError\n",
      "f_convert_d('string')->None\n",
      "(3, 6, 7) ValueError or TypeError\n",
      "f_convert_d(3,6,7)->None\n",
      "____________________\n",
      "Unable to open ./data/tryException.txt :[Errno 2] No such file or directory: './data/tryException.txt'\n",
      "\n",
      "tryException_content->None\n",
      "Unable to open ./data/tryException_.txt :[Errno 2] No such file or directory: './data/tryException_.txt'\n",
      "\n",
      "____________________\n",
      "Unable to open ./data/tryException.txt :[Errno 2] No such file or directory: './data/tryException.txt'\n",
      "\n",
      "done!\n"
     ]
    }
   ],
   "source": [
    "#try/except捕捉异常\n",
    "def f_convert_a(x):\n",
    "    try:\n",
    "        return float(x)\n",
    "    except:\n",
    "        return x\n",
    "print(\"f_convert_a('3.1415')->{}\".format(f_convert_a('3.1415')))    \n",
    "print(\"f_convert_a('string')->{}\".format(f_convert_a('string')))  \n",
    "print(\"f_convert_a(3,4,5)->{}\".format(f_convert_a((3,4,5))))  \n",
    "print(\"_\"*20)#使用多条except子句指定多个异常处理代码块\n",
    "def f_convert_c(x):\n",
    "    try:\n",
    "        return float(x)\n",
    "    except ValueError:\n",
    "        return x\n",
    "    except TypeError:\n",
    "        print(x,'TypeError')\n",
    "print(\"f_convert_c('3.1415')->{}\".format(f_convert_c('3.1415')))    \n",
    "print(\"f_convert_c('string')->{}\".format(f_convert_c('string')))  \n",
    "print(\"f_convert_c(3,4,5)->{}\".format(f_convert_c((3,4,5))))   \n",
    "print(\"_\"*20)#处理程序捕捉多种类型的异常\n",
    "def f_convert_d(x):\n",
    "    try:\n",
    "        return float(x)\n",
    "    except (ValueError,TypeError):\n",
    "        print(x,'ValueError or TypeError')\n",
    "print(\"f_convert_d('3.1415')->{}\".format(f_convert_d('3.1415')))    \n",
    "print(\"f_convert_d('string')->{}\".format(f_convert_d('string')))  \n",
    "print(\"f_convert_d(3,6,7)->{}\".format(f_convert_d((3,6,7)))) \n",
    "print(\"_\"*20)#使用pass语句忽略异常\n",
    "def f_convert_d(x):\n",
    "    try:\n",
    "        return float(x)\n",
    "    except (ValueError,TypeError):\n",
    "        print(x,'ValueError or TypeError')\n",
    "print(\"f_convert_d('3.1415')->{}\".format(f_convert_d('3.1415')))    \n",
    "print(\"f_convert_d('string')->{}\".format(f_convert_d('string')))  \n",
    "print(\"f_convert_d(3,6,7)->{}\".format(f_convert_d((3,6,7)))) \n",
    "print(\"_\"*20)#try语句\n",
    "def f_open_a(fp):\n",
    "    try:\n",
    "        f=open(fp,'r')\n",
    "    except IOError as e:\n",
    "        print('Unable to open',fp,':%s\\n' %e)\n",
    "    else:\n",
    "        data=f.read()\n",
    "        f.close\n",
    "        return data\n",
    "tryException_content=f_open_a(\"./data/tryException.txt\")   \n",
    "print(\"tryException_content->{}\".format(tryException_content))\n",
    "f_open_a(\"./data/tryException_.txt\")\n",
    "print(\"_\"*20)#finally语句\n",
    "def f_open_b(fp):\n",
    "    try:\n",
    "        f=open(fp,'r')\n",
    "    except IOError as e:\n",
    "        print('Unable to open',fp,':%s\\n' %e)\n",
    "    else:\n",
    "        data=f.read()\n",
    "        f.close()\n",
    "        return data\n",
    "    finally:\n",
    "        print('done!')\n",
    "f_open_b(\"./data/tryException.txt\")        \n"
   ]
  },
  {
   "cell_type": "code",
   "execution_count": null,
   "id": "2e5001cc-47c3-4cbb-ba35-c1242c144c03",
   "metadata": {},
   "outputs": [],
   "source": []
  }
 ],
 "metadata": {
  "kernelspec": {
   "display_name": "Python 3",
   "language": "python",
   "name": "python3"
  },
  "language_info": {
   "codemirror_mode": {
    "name": "ipython",
    "version": 3
   },
   "file_extension": ".py",
   "mimetype": "text/x-python",
   "name": "python",
   "nbconvert_exporter": "python",
   "pygments_lexer": "ipython3",
   "version": "3.8.8"
  }
 },
 "nbformat": 4,
 "nbformat_minor": 5
}
